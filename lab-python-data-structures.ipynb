{
 "cells": [
  {
   "cell_type": "markdown",
   "metadata": {
    "tags": []
   },
   "source": [
    "# Lab | Data Structures "
   ]
  },
  {
   "cell_type": "code",
   "execution_count": 49,
   "metadata": {},
   "outputs": [
    {
     "name": "stdin",
     "output_type": "stream",
     "text": [
      "Enter the amount of t-shirts you want to purchase 5\n",
      "Enter the amount of mugs you want to purchase 5\n",
      "Enter the amount of hats you want to purchase 5\n",
      "Enter the amount of books you want to purchase 5\n",
      "Enter the amount of keychains you want to purchase 5\n"
     ]
    },
    {
     "name": "stdout",
     "output_type": "stream",
     "text": [
      "{'hat:5', 't-shirt:5', 'keychain:5', 'mug:5', 'book:5'}\n"
     ]
    }
   ],
   "source": [
    "products=[\"t-shirt\", \"mug\", \"hat\", \"book\", \"keychain\"]\n",
    "inventory={}\n",
    "\n",
    "shirt= int(input(\"Enter the amount of t-shirts you want to purchase\"))\n",
    "mugs= int(input(\"Enter the amount of mugs you want to purchase\"))\n",
    "hats= int(input(\"Enter the amount of hats you want to purchase\"))\n",
    "books= int(input(\"Enter the amount of books you want to purchase\"))\n",
    "keychains= int(input(\"Enter the amount of keychains you want to purchase\"))\n",
    "\n",
    "inventory = {\n",
    "    't-shirt': shirt,\n",
    "    'mug': mugs,\n",
    "    'hat': hats,\n",
    "    'book': books,\n",
    "    'keychain': keychains\n",
    "}\n",
    "\n",
    "print(inventory)"
   ]
  },
  {
   "cell_type": "code",
   "execution_count": 51,
   "metadata": {},
   "outputs": [
    {
     "name": "stdin",
     "output_type": "stream",
     "text": [
      "Enter the name of product 1 (options are: t-shirt, mug, hat, book, keychain):  mug\n",
      "Enter the name of product 2 (options are: t-shirt, mug, hat, book, keychain): hat\n",
      "Enter the name of product 3 (options are: t-shirt, mug, hat, book, keychain): book\n"
     ]
    },
    {
     "name": "stdout",
     "output_type": "stream",
     "text": [
      "{'hat', 'book', 'mug'}\n"
     ]
    }
   ],
   "source": [
    "customer_orders=set()\n",
    "\n",
    "product1 = input(\"Enter the name of product 1 (options are: t-shirt, mug, hat, book, keychain): \").strip().lower()\n",
    "while product1 not in products:\n",
    "    print(\"Invalid product name. Please choose from the available options.\")\n",
    "    product1 = input(\"Enter the name of product 1 (options are: t-shirt, mug, hat, book, keychain): \").strip().lower()\n",
    "customer_orders.add(product1)\n",
    "\n",
    "product2=input(\"Enter the name of product 2 (options are: t-shirt, mug, hat, book, keychain):\").strip().lower()\n",
    "while product2 not in products:\n",
    "    print(\"Invalid product name. Please choose from the available options.\")\n",
    "    product1 = input(\"Enter the name of product 1 (options are: t-shirt, mug, hat, book, keychain): \").strip().lower()\n",
    "customer_orders.add(product2)\n",
    "\n",
    "product3=input(\"Enter the name of product 3 (options are: t-shirt, mug, hat, book, keychain):\").strip().lower()\n",
    "while product2 not in products:\n",
    "    print(\"Invalid product name. Please choose from the available options.\")\n",
    "    product1 = input(\"Enter the name of product 3 (options are: t-shirt, mug, hat, book, keychain): \").strip().lower()\n",
    "customer_orders.add(product3)\n",
    "\n",
    "print(customer_orders)"
   ]
  },
  {
   "cell_type": "code",
   "execution_count": 53,
   "metadata": {},
   "outputs": [
    {
     "name": "stdout",
     "output_type": "stream",
     "text": [
      "3\n",
      "0.6\n"
     ]
    }
   ],
   "source": [
    "total = len(customer_orders)\n",
    "percentage = len(customer_orders) / len(products)\n",
    "\n",
    "print(total)\n",
    "print(percentage)"
   ]
  },
  {
   "cell_type": "code",
   "execution_count": 55,
   "metadata": {},
   "outputs": [
    {
     "name": "stdout",
     "output_type": "stream",
     "text": [
      "Order Statistics:\n",
      "Total Products Ordered: 3\n",
      "Percentage of Products Ordered: 0.6%\n"
     ]
    }
   ],
   "source": [
    "print(\"Order Statistics:\")\n",
    "print(f\"Total Products Ordered: {total}\")\n",
    "print(f\"Percentage of Products Ordered: {percentage}%\")"
   ]
  },
  {
   "cell_type": "code",
   "execution_count": 13,
   "metadata": {},
   "outputs": [
    {
     "name": "stdout",
     "output_type": "stream",
     "text": [
      "Updated Inventory: {'t-shirt': 2, 'mug': 0, 'hat': 0, 'book': 0, 'keychain': 2}\n"
     ]
    }
   ],
   "source": [
    "for product in customer_orders:\n",
    "    if inventory.get(product) is not None:\n",
    "        inventory[product] = max(0, inventory[product] - 1)\n",
    "        \n",
    "print(\"Updated Inventory:\", inventory)"
   ]
  },
  {
   "cell_type": "markdown",
   "metadata": {},
   "source": [
    "### Exercise: Managing Customer Orders\n",
    "\n",
    "As part of a business venture, you are starting an online store that sells various products. To ensure smooth operations, you need to develop a program that manages customer orders and inventory.\n",
    "\n",
    "Follow the steps below to complete the exercise:\n",
    "\n",
    "1. Define a list called `products` that contains the following items: \"t-shirt\", \"mug\", \"hat\", \"book\", \"keychain\".\n",
    "\n",
    "2. Create an empty dictionary called `inventory`.\n",
    "\n",
    "3. Ask the user to input the quantity of each product available in the inventory. Use the product names from the `products` list as keys in the `inventory` dictionary and assign the respective quantities as values.\n",
    "\n",
    "4. Create an empty set called `customer_orders`.\n",
    "\n",
    "5. Ask the user to input the name of three products that a customer wants to order (from those in the products list, meaning three products out of \"t-shirt\", \"mug\", \"hat\", \"book\" or \"keychain\". Add each product name to the `customer_orders` set.\n",
    "\n",
    "6. Print the products in the `customer_orders` set.\n",
    "\n",
    "7. Calculate the following order statistics:\n",
    "   - Total Products Ordered: The total number of products in the `customer_orders` set.\n",
    "   - Percentage of Products Ordered: The percentage of products ordered compared to the total available products.\n",
    "   \n",
    "   Store these statistics in a tuple called `order_status`.\n",
    "\n",
    "8. Print the order statistics using the following format:\n",
    "   ```\n",
    "   Order Statistics:\n",
    "   Total Products Ordered: <total_products_ordered>\n",
    "   Percentage of Products Ordered: <percentage_ordered>% \n",
    "   ```\n",
    "\n",
    "9. Update the inventory by subtracting 1 from the quantity of each product. Modify the `inventory` dictionary accordingly.\n",
    "\n",
    "10. Print the updated inventory, displaying the quantity of each product on separate lines.\n",
    "\n",
    "Solve the exercise by implementing the steps using the Python concepts of lists, dictionaries, sets, and basic input/output operations. "
   ]
  },
  {
   "cell_type": "code",
   "execution_count": null,
   "metadata": {},
   "outputs": [],
   "source": []
  }
 ],
 "metadata": {
  "kernelspec": {
   "display_name": "Python 3 (ipykernel)",
   "language": "python",
   "name": "python3"
  },
  "language_info": {
   "codemirror_mode": {
    "name": "ipython",
    "version": 3
   },
   "file_extension": ".py",
   "mimetype": "text/x-python",
   "name": "python",
   "nbconvert_exporter": "python",
   "pygments_lexer": "ipython3",
   "version": "3.12.4"
  }
 },
 "nbformat": 4,
 "nbformat_minor": 4
}
