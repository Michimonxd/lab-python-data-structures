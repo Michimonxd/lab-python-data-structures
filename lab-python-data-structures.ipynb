{
 "cells": [
  {
   "cell_type": "markdown",
   "metadata": {
    "tags": []
   },
   "source": [
    "# Lab | Data Structures "
   ]
  },
  {
   "cell_type": "code",
   "execution_count": 49,
   "metadata": {},
   "outputs": [
    {
     "name": "stdin",
     "output_type": "stream",
     "text": [
      "Enter the amount of t-shirts you want to purchase 5\n",
      "Enter the amount of mugs you want to purchase 5\n",
      "Enter the amount of hats you want to purchase 5\n",
      "Enter the amount of books you want to purchase 5\n",
      "Enter the amount of keychains you want to purchase 5\n"
     ]
    },
    {
     "name": "stdout",
     "output_type": "stream",
     "text": [
      "{'hat:5', 't-shirt:5', 'keychain:5', 'mug:5', 'book:5'}\n"
     ]
    }
   ],
   "source": [
    "products=[\"t-shirt\", \"mug\", \"hat\", \"book\", \"keychain\"]\n",
    "inventory={}\n",
    "\n",
    "shirt= int(input(\"Enter the amount of t-shirts you want to purchase\"))\n",
    "mugs= int(input(\"Enter the amount of mugs you want to purchase\"))\n",
    "hats= int(input(\"Enter the amount of hats you want to purchase\"))\n",
    "books= int(input(\"Enter the amount of books you want to purchase\"))\n",
    "keychains= int(input(\"Enter the amount of keychains you want to purchase\"))\n",
    "\n",
    "inventory ={f't-shirt:{shirt}', f'mug:{mugs}', f'hat:{hats}', f'book:{books}', f'keychain:{keychains}'}\n",
    "\n",
    "print(inventory)"
   ]
  },
  {
   "cell_type": "code",
   "execution_count": 51,
   "metadata": {},
   "outputs": [
    {
     "name": "stdin",
     "output_type": "stream",
     "text": [
      "Enter the name of product 1 (options are: t-shirt, mug, hat, book, keychain):  mug\n",
      "Enter the name of product 2 (options are: t-shirt, mug, hat, book, keychain): hat\n",
      "Enter the name of product 3 (options are: t-shirt, mug, hat, book, keychain): book\n"
     ]
    },
    {
     "name": "stdout",
     "output_type": "stream",
     "text": [
      "{'hat', 'book', 'mug'}\n"
     ]
    }
   ],
   "source": [
    "customer_orders=set()\n",
    "\n",
    "product1 = input(\"Enter the name of product 1 (options are: t-shirt, mug, hat, book, keychain): \").strip().lower()\n",
    "while product1 not in products:\n",
    "    print(\"Invalid product name. Please choose from the available options.\")\n",
    "    product1 = input(\"Enter the name of product 1 (options are: t-shirt, mug, hat, book, keychain): \").strip().lower()\n",
    "customer_orders.add(product1)\n",
    "\n",
    "product2=input(\"Enter the name of product 2 (options are: t-shirt, mug, hat, book, keychain):\").strip().lower()\n",
    "while product2 not in products:\n",
    "    print(\"Invalid product name. Please choose from the available options.\")\n",
    "    product1 = input(\"Enter the name of product 1 (options are: t-shirt, mug, hat, book, keychain): \").strip().lower()\n",
    "customer_orders.add(product2)\n",
    "\n",
    "product3=input(\"Enter the name of product 3 (options are: t-shirt, mug, hat, book, keychain):\").strip().lower()\n",
    "while product2 not in products:\n",
    "    print(\"Invalid product name. Please choose from the available options.\")\n",
    "    product1 = input(\"Enter the name of product 3 (options are: t-shirt, mug, hat, book, keychain): \").strip().lower()\n",
    "customer_orders.add(product3)\n",
    "\n",
    "print(customer_orders)"
   ]
  },
  {
   "cell_type": "code",
   "execution_count": 53,
   "metadata": {},
   "outputs": [
    {
     "name": "stdout",
     "output_type": "stream",
     "text": [
      "3\n",
      "0.6\n"
     ]
    }
   ],
   "source": [
    "total = len(customer_orders)\n",
    "percentage = len(customer_orders) / len(products) \n",
    "\n",
    "print(total)\n",
    "print(percentage)"
   ]
  },
  {
   "cell_type": "code",
   "execution_count": 55,
   "metadata": {},
   "outputs": [
    {
     "name": "stdout",
     "output_type": "stream",
     "text": [
      "Order Statistics:\n",
      "Total Products Ordered: 3\n",
      "Percentage of Products Ordered: 0.6%\n"
     ]
    }
   ],
   "source": [
    "print(\"Order Statistics:\")\n",
    "print(f\"Total Products Ordered: {total}\")\n",
    "print(f\"Percentage of Products Ordered: {percentage}%\")"
   ]
  },
  {
   "cell_type": "code",
   "execution_count": 82,
   "metadata": {},
   "outputs": [
    {
     "ename": "AttributeError",
     "evalue": "'set' object has no attribute 'get'",
     "output_type": "error",
     "traceback": [
      "\u001b[0;31m---------------------------------------------------------------------------\u001b[0m",
      "\u001b[0;31mAttributeError\u001b[0m                            Traceback (most recent call last)",
      "Cell \u001b[0;32mIn[82], line 7\u001b[0m\n\u001b[1;32m      2\u001b[0m     \u001b[38;5;28;01mif\u001b[39;00m product \u001b[38;5;129;01min\u001b[39;00m inventory:\n\u001b[1;32m      3\u001b[0m         inventory[product] \u001b[38;5;241m=\u001b[39m \u001b[38;5;28mmax\u001b[39m(\u001b[38;5;241m0\u001b[39m, inventory[product] \u001b[38;5;241m-\u001b[39m \u001b[38;5;241m1\u001b[39m)\n\u001b[0;32m----> 7\u001b[0m \u001b[38;5;28mprint\u001b[39m(inventory\u001b[38;5;241m.\u001b[39mget(\u001b[38;5;124m'\u001b[39m\u001b[38;5;124mt-shirt\u001b[39m\u001b[38;5;124m'\u001b[39m, \u001b[38;5;124m'\u001b[39m\u001b[38;5;124mmug\u001b[39m\u001b[38;5;124m'\u001b[39m, \u001b[38;5;124m'\u001b[39m\u001b[38;5;124mhat\u001b[39m\u001b[38;5;124m'\u001b[39m,\u001b[38;5;124m'\u001b[39m\u001b[38;5;124mbook\u001b[39m\u001b[38;5;124m'\u001b[39m, \u001b[38;5;124m'\u001b[39m\u001b[38;5;124mkeychain\u001b[39m\u001b[38;5;124m'\u001b[39m))\n",
      "\u001b[0;31mAttributeError\u001b[0m: 'set' object has no attribute 'get'"
     ]
    }
   ],
   "source": [
    "for product in customer_orders:\n",
    "    if product in inventory:\n",
    "        inventory[product] = max(0, inventory[product] - 1)\n",
    "\n",
    "\n",
    "\n",
    "print(inventory.get('t-shirt', 'mug', 'hat','book', 'keychain'))"
   ]
  },
  {
   "cell_type": "markdown",
   "metadata": {},
   "source": [
    "### Exercise: Managing Customer Orders\n",
    "\n",
    "As part of a business venture, you are starting an online store that sells various products. To ensure smooth operations, you need to develop a program that manages customer orders and inventory.\n",
    "\n",
    "Follow the steps below to complete the exercise:\n",
    "\n",
    "1. Define a list called `products` that contains the following items: \"t-shirt\", \"mug\", \"hat\", \"book\", \"keychain\".\n",
    "\n",
    "2. Create an empty dictionary called `inventory`.\n",
    "\n",
    "3. Ask the user to input the quantity of each product available in the inventory. Use the product names from the `products` list as keys in the `inventory` dictionary and assign the respective quantities as values.\n",
    "\n",
    "4. Create an empty set called `customer_orders`.\n",
    "\n",
    "5. Ask the user to input the name of three products that a customer wants to order (from those in the products list, meaning three products out of \"t-shirt\", \"mug\", \"hat\", \"book\" or \"keychain\". Add each product name to the `customer_orders` set.\n",
    "\n",
    "6. Print the products in the `customer_orders` set.\n",
    "\n",
    "7. Calculate the following order statistics:\n",
    "   - Total Products Ordered: The total number of products in the `customer_orders` set.\n",
    "   - Percentage of Products Ordered: The percentage of products ordered compared to the total available products.\n",
    "   \n",
    "   Store these statistics in a tuple called `order_status`.\n",
    "\n",
    "8. Print the order statistics using the following format:\n",
    "   ```\n",
    "   Order Statistics:\n",
    "   Total Products Ordered: <total_products_ordered>\n",
    "   Percentage of Products Ordered: <percentage_ordered>% \n",
    "   ```\n",
    "\n",
    "9. Update the inventory by subtracting 1 from the quantity of each product. Modify the `inventory` dictionary accordingly.\n",
    "\n",
    "10. Print the updated inventory, displaying the quantity of each product on separate lines.\n",
    "\n",
    "Solve the exercise by implementing the steps using the Python concepts of lists, dictionaries, sets, and basic input/output operations. "
   ]
  },
  {
   "cell_type": "code",
   "execution_count": null,
   "metadata": {},
   "outputs": [],
   "source": []
  }
 ],
 "metadata": {
  "kernelspec": {
   "display_name": "Python 3 (ipykernel)",
   "language": "python",
   "name": "python3"
  },
  "language_info": {
   "codemirror_mode": {
    "name": "ipython",
    "version": 3
   },
   "file_extension": ".py",
   "mimetype": "text/x-python",
   "name": "python",
   "nbconvert_exporter": "python",
   "pygments_lexer": "ipython3",
   "version": "3.12.4"
  }
 },
 "nbformat": 4,
 "nbformat_minor": 4
}
